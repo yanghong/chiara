{
 "cells": [
  {
   "cell_type": "markdown",
   "metadata": {},
   "source": [
    "# 目标网址：http://www.pbc.gov.cn/zhengcehuobisi/125207/125217/125925/index.html"
   ]
  },
  {
   "cell_type": "code",
   "execution_count": 5,
   "metadata": {},
   "outputs": [],
   "source": [
    "# 测试环境是否安装好\n",
    "from selenium import webdriver\n",
    "brower = webdriver.Chrome()"
   ]
  },
  {
   "cell_type": "markdown",
   "metadata": {},
   "source": [
    "# chromeheadless"
   ]
  },
  {
   "cell_type": "code",
   "execution_count": 39,
   "metadata": {},
   "outputs": [],
   "source": [
    "from selenium import webdriver\n",
    "from selenium.webdriver.common.by import By\n",
    "from selenium.webdriver.support.ui import WebDriverWait\n",
    "from selenium.webdriver.support import expected_conditions as EC\n",
    "from selenium.webdriver.common.action_chains import ActionChains\n",
    "from selenium.webdriver.common.keys import Keys\n",
    "\n",
    "chrome_options = webdriver.ChromeOptions()\n",
    "# 使用headless无界面浏览器模式\n",
    "chrome_options.add_argument('--headless')\n",
    "chrome_options.add_argument('--disable-gpu')\n",
    "\n",
    "# 启动浏览器，获取网页源代码\n",
    "browser = webdriver.Chrome(chrome_options=chrome_options)\n",
    "mainUrl = \"http://www.pbc.gov.cn/zhengcehuobisi/125207/125217/125925/index.html\"\n",
    "browser.get(mainUrl)\n",
    "html = browser.page_source\n",
    "# print(f\"browser text = {browser.page_source}\")\n",
    "browser.quit()"
   ]
  },
  {
   "cell_type": "code",
   "execution_count": 30,
   "metadata": {},
   "outputs": [],
   "source": [
    "# print(html)"
   ]
  },
  {
   "cell_type": "code",
   "execution_count": 40,
   "metadata": {},
   "outputs": [],
   "source": [
    "from bs4 import BeautifulSoup\n",
    "soup = BeautifulSoup(html, 'html.parser')\n",
    "# print(soup)"
   ]
  },
  {
   "cell_type": "code",
   "execution_count": 41,
   "metadata": {},
   "outputs": [
    {
     "name": "stdout",
     "output_type": "stream",
     "text": [
      "date:  2018年7月27日\n",
      "href:  /zhengcehuobisi/125207/125217/125925/3587925/index.html\n",
      "date:  2018年7月26日\n",
      "href:  /zhengcehuobisi/125207/125217/125925/3586905/index.html\n",
      "date:  2018年7月25日\n",
      "href:  /zhengcehuobisi/125207/125217/125925/3585952/index.html\n",
      "date:  2018年7月24日\n",
      "href:  /zhengcehuobisi/125207/125217/125925/3584593/index.html\n",
      "date:  2018年7月23日\n",
      "href:  /zhengcehuobisi/125207/125217/125925/3582807/index.html\n",
      "date:  2018年7月20日\n",
      "href:  /zhengcehuobisi/125207/125217/125925/3581885/index.html\n",
      "date:  2018年7月19日\n",
      "href:  /zhengcehuobisi/125207/125217/125925/3581280/index.html\n",
      "date:  2018年7月18日\n",
      "href:  /zhengcehuobisi/125207/125217/125925/3580608/index.html\n",
      "date:  2018年7月17日\n",
      "href:  /zhengcehuobisi/125207/125217/125925/3579553/index.html\n",
      "date:  2018年7月16日\n",
      "href:  /zhengcehuobisi/125207/125217/125925/3578267/index.html\n",
      "date:  2018年7月13日\n",
      "href:  /zhengcehuobisi/125207/125217/125925/3577127/index.html\n",
      "date:  2018年7月12日\n",
      "href:  /zhengcehuobisi/125207/125217/125925/3576374/index.html\n",
      "date:  2018年7月11日\n",
      "href:  /zhengcehuobisi/125207/125217/125925/3576024/index.html\n",
      "date:  2018年7月10日\n",
      "href:  /zhengcehuobisi/125207/125217/125925/3574980/index.html\n",
      "date:  2018年7月9日\n",
      "href:  /zhengcehuobisi/125207/125217/125925/3573733/index.htm\n",
      "date:  2018年7月6日\n",
      "href:  /zhengcehuobisi/125207/125217/125925/3572645/index.htm\n",
      "date:  2018年7月5日\n",
      "href:  /zhengcehuobisi/125207/125217/125925/3572147/index.htm\n",
      "date:  2018年7月4日\n",
      "href:  /zhengcehuobisi/125207/125217/125925/3571407/index.htm\n",
      "date:  2018年7月3日\n",
      "href:  /zhengcehuobisi/125207/125217/125925/3570220/index.htm\n",
      "date:  2018年7月2日\n",
      "href:  /zhengcehuobisi/125207/125217/125925/3568609/index.htm\n"
     ]
    }
   ],
   "source": [
    "import re\n",
    "# xpath: //*[@id=\"17105\"]/div[2]/div[1]/table/tbody/tr[2]/td/table[1]/tbody/tr/td[2]/font/a\n",
    "target_all_a = soup.find_all('a')\n",
    "target_text = '中国外汇交易中心受权公布人民币汇率中间价公告\">'\n",
    "target_date = []\n",
    "target_href = []\n",
    "for item in target_all_a:\n",
    "    item = str(item)\n",
    "    try:\n",
    "        target_href_pos = re.search(target_text,item).span()\n",
    "        if target_href_pos:\n",
    "            target_date.append(item[107:target_href_pos[0]])\n",
    "            target_href.append(item[9:target_href_pos[0]-53])\n",
    "            print('date: ', item[107:target_href_pos[0]])                \n",
    "            print('href: ', item[9:target_href_pos[0]-53])\n",
    "    except:\n",
    "        continue"
   ]
  },
  {
   "cell_type": "code",
   "execution_count": 43,
   "metadata": {},
   "outputs": [
    {
     "name": "stdout",
     "output_type": "stream",
     "text": [
      "2018年7月27日 /zhengcehuobisi/125207/125217/125925/3587925/index.html\n"
     ]
    }
   ],
   "source": [
    "print(target_date[0], target_href[0])"
   ]
  },
  {
   "cell_type": "code",
   "execution_count": 32,
   "metadata": {},
   "outputs": [],
   "source": [
    "target_href = '/zhengcehuobisi/125207/125217/125925/3587925/index.html'\n",
    "new_url = 'http://www.pbc.gov.cn' + target_href\n",
    "\n",
    "# 启动浏览器，获取网页源代码\n",
    "browser = webdriver.Chrome(chrome_options=chrome_options)\n",
    "browser.get(new_url)\n",
    "html = browser.page_source\n",
    "# print(f\"browser text = {browser.page_source}\")\n",
    "browser.quit()\n",
    "soup = BeautifulSoup(html, 'html.parser')\n",
    "# print(soup)"
   ]
  },
  {
   "cell_type": "code",
   "execution_count": 20,
   "metadata": {},
   "outputs": [
    {
     "name": "stdout",
     "output_type": "stream",
     "text": [
      "中国人民银行授权中国外汇交易中心公布*2018年7月27日银行间外汇市场人民币汇率中间价为*1美元*6.7942元*1欧元*7.9109元*100日元*6.1138元*1港元*0.86578元*1英镑*8.9079元*1澳大利亚元*5.0152元*1新西兰元*4.6107元*1新加坡元*4.9827元*1瑞士法郎*6.8377元*1加拿大元*5.1995元*1元*0.59741林吉特*1元*9.2622俄罗斯卢布*1元*1.9485南非兰特*1元*164.95韩元*1元*0.54033阿联酋迪拉姆*1元*0.55170沙特里亚尔*1元*40.8861匈牙利福林*1元*0.54190波兰兹罗提*1元*0.9413丹麦克朗*1元*1.2965瑞典克朗*1元*1.2042挪威克朗*1元*0.71648土耳其里拉*1元*2.7425墨西哥比索*1元*4.9168泰铢\n",
      "{'164.95韩元': '1元', '1.2042挪威克朗': '1元', '9.2622俄罗斯卢布': '1元', '0.9413丹麦克朗': '1元', '2018年7月27日银行间外汇市场人民币汇率中间价为': '中国人民银行授权中国外汇交易中心公布', '4.9827元': '1新加坡元', '6.1138元': '100日元', '4.9168泰铢': '1元', '8.9079元': '1英镑', '0.59741林吉特': '1元', '1.9485南非兰特': '1元', '6.7942元': '1美元', '7.9109元': '1欧元', '0.71648土耳其里拉': '1元', '4.6107元': '1新西兰元', '0.54190波兰兹罗提': '1元', '0.86578元': '1港元', '1.2965瑞典克朗': '1元', '40.8861匈牙利福林': '1元', '5.1995元': '1加拿大元', '6.8377元': '1瑞士法郎', '0.54033阿联酋迪拉姆': '1元', '2.7425墨西哥比索': '1元', '5.0152元': '1澳大利亚元', '0.55170沙特里亚尔': '1元'}\n",
      "164.95韩元 : 1元\n",
      "1.2042挪威克朗 : 1元\n",
      "9.2622俄罗斯卢布 : 1元\n",
      "0.9413丹麦克朗 : 1元\n",
      "2018年7月27日银行间外汇市场人民币汇率中间价为 : 中国人民银行授权中国外汇交易中心公布\n",
      "4.9827元 : 1新加坡元\n",
      "6.1138元 : 100日元\n",
      "4.9168泰铢 : 1元\n",
      "8.9079元 : 1英镑\n",
      "0.59741林吉特 : 1元\n",
      "1.9485南非兰特 : 1元\n",
      "6.7942元 : 1美元\n",
      "7.9109元 : 1欧元\n",
      "0.71648土耳其里拉 : 1元\n",
      "4.6107元 : 1新西兰元\n",
      "0.54190波兰兹罗提 : 1元\n",
      "0.86578元 : 1港元\n",
      "1.2965瑞典克朗 : 1元\n",
      "40.8861匈牙利福林 : 1元\n",
      "5.1995元 : 1加拿大元\n",
      "6.8377元 : 1瑞士法郎\n",
      "0.54033阿联酋迪拉姆 : 1元\n",
      "2.7425墨西哥比索 : 1元\n",
      "5.0152元 : 1澳大利亚元\n",
      "0.55170沙特里亚尔 : 1元\n"
     ]
    }
   ],
   "source": [
    "source_text = str(soup.find_all('p')[0])\n",
    "source_text_list = source_text.split('，')\n",
    "source_text_str = '*'.join(source_text_list)\n",
    "source_text_list = source_text_str.split(', ')\n",
    "source_text_str = '*'.join(source_text_list)\n",
    "source_text_list = source_text_str.split('：')\n",
    "source_text_str = '*'.join(source_text_list)\n",
    "source_text_str = re.sub('<p>','',source_text_str)\n",
    "source_text_str = re.sub('。','',source_text_str)\n",
    "source_text_str = re.sub('</p>','',source_text_str)\n",
    "source_text_str = re.sub('对人民币','*',source_text_str)\n",
    "source_text_str = re.sub('人民币1元对','1元*',source_text_str)\n",
    "source_text_list = source_text_str.split('*')\n",
    "count = 0\n",
    "rate_key = []\n",
    "rate_value = []\n",
    "for item in source_text_list:\n",
    "    if count%2 == 0:\n",
    "        rate_value.append(item)\n",
    "    else:\n",
    "        rate_key.append(item)\n",
    "    count = count + 1\n",
    "print(source_text_str)\n",
    "rate_dict = dict(zip(rate_key,rate_value))\n",
    "print(rate_dict)\n",
    "for item in rate_dict.keys():\n",
    "    print(item,':',rate_dict[item])"
   ]
  },
  {
   "cell_type": "code",
   "execution_count": 12,
   "metadata": {},
   "outputs": [
    {
     "name": "stdout",
     "output_type": "stream",
     "text": [
      "{'164.95韩元': '1元', '1.2042挪威克朗': '1元', '9.2622俄罗斯卢布': '1元', '0.9413丹麦克朗': '1元', '2018年7月27日银行间外汇市场人民币汇率中间价为': '中国人民银行授权中国外汇交易中心公布', '4.9827元': '1新加坡元', '6.1138元': '100日元', '4.9168泰铢。': '1元', '8.9079元': '1英镑', '0.59741林吉特': '1元', '1.9485南非兰特': '1元', '6.7942元': '1美元', '7.9109元': '1欧元', '0.71648土耳其里拉': '1元', '4.6107元': '1新西兰元', '0.54190波兰兹罗提': '1元', '0.86578元': '1港元', '1.2965瑞典克朗': '1元', '40.8861匈牙利福林': '1元', '5.1995元': '1加拿大元', '6.8377元': '1瑞士法郎', '0.54033阿联酋迪拉姆': '1元', '2.7425墨西哥比索': '1元', '5.0152元': '1澳大利亚元', '0.55170沙特里亚尔': '1元'}\n",
      "dict_keys(['164.95韩元', '1.2042挪威克朗', '9.2622俄罗斯卢布', '0.9413丹麦克朗', '2018年7月27日银行间外汇市场人民币汇率中间价为', '4.9827元', '6.1138元', '4.9168泰铢。', '8.9079元', '0.59741林吉特', '1.9485南非兰特', '6.7942元', '7.9109元', '0.71648土耳其里拉', '4.6107元', '0.54190波兰兹罗提', '0.86578元', '1.2965瑞典克朗', '40.8861匈牙利福林', '5.1995元', '6.8377元', '0.54033阿联酋迪拉姆', '2.7425墨西哥比索', '5.0152元', '0.55170沙特里亚尔'])\n"
     ]
    }
   ],
   "source": [
    "print(rate_dict)\n",
    "print(rate_dict.keys())"
   ]
  },
  {
   "cell_type": "code",
   "execution_count": 28,
   "metadata": {},
   "outputs": [
    {
     "name": "stdout",
     "output_type": "stream",
     "text": [
      "167942\n"
     ]
    }
   ],
   "source": [
    "# 提取字符串中的数字\n",
    "totalCount = '1美元-6.7942元'\n",
    "totalCount = re.sub(\"\\D\", \"\", totalCount)  # 替换非数字字符\n",
    "print(totalCount)"
   ]
  },
  {
   "cell_type": "markdown",
   "metadata": {},
   "source": [
    "# 存入excel"
   ]
  },
  {
   "cell_type": "code",
   "execution_count": 3,
   "metadata": {},
   "outputs": [],
   "source": [
    "import xlwt"
   ]
  },
  {
   "cell_type": "code",
   "execution_count": 22,
   "metadata": {},
   "outputs": [],
   "source": [
    "rate_book = xlwt.Workbook()\n",
    "rate_sheet = rate_book.add_sheet('sheet1',cell_overwrite_ok=True)\n",
    "count = 0\n",
    "for item in rate_key:\n",
    "    # print(item,':',rate_dict[item])\n",
    "    rate_sheet.write(count,0,item)\n",
    "    count = count + 1\n",
    "count = 0\n",
    "for item in rate_value:\n",
    "    rate_sheet.write(count,1,item)\n",
    "    count = count + 1\n",
    "rate_book.save('chiara.xlsx')"
   ]
  },
  {
   "cell_type": "markdown",
   "metadata": {},
   "source": [
    "# 发送邮件"
   ]
  },
  {
   "cell_type": "code",
   "execution_count": 12,
   "metadata": {},
   "outputs": [
    {
     "data": {
      "text/plain": [
       "(221, b'Bye')"
      ]
     },
     "execution_count": 12,
     "metadata": {},
     "output_type": "execute_result"
    }
   ],
   "source": [
    "from email.header import Header\n",
    "from email.mime.text import MIMEText\n",
    "from email.utils import formataddr\n",
    "import smtplib\n",
    "\n",
    "# 用户信息\n",
    "from_addr = 'h@0920er.com'\n",
    "password = '见云笔记' # # 腾讯QQ邮箱或腾讯企业邮箱必须使用授权码进行第三方登陆\n",
    "to_addr = '921348203@qq.com'\n",
    "smtp_server = 'smtp.exmail.qq.com' # 腾讯服务器地址\n",
    "\n",
    "# 内容初始化，定义内容格式（普通文本，html）\n",
    "msg = MIMEText(source_text, 'plain', 'utf-8')\n",
    "\n",
    "# 发件人收件人信息格式化 ，可防空\n",
    "# 固定用法不必纠结，我使用lambda表达式进行简单封装方便调用\n",
    "lam_format_addr = lambda name, addr: formataddr((Header(name, 'utf-8').encode(), addr))\n",
    "# 传入昵称和邮件地址\n",
    "msg['From'] = lam_format_addr('发件人昵称', from_addr) # 腾讯邮箱可略\n",
    "msg['To'] = lam_format_addr('收件人昵称（服务商会自动替换成用户名）', to_addr) # 腾讯邮箱可略\n",
    "\n",
    "# 邮件标题\n",
    "msg['Subject'] = Header('小主，今天的汇率来了，刚出锅的。', 'utf-8').encode() # 腾讯邮箱略过会导致邮件被屏蔽\n",
    "\n",
    "# 服务端配置，账密登陆\n",
    "server = smtplib.SMTP(smtp_server, 25)\n",
    "\n",
    "# 腾讯邮箱支持SSL(不强制)， 不支持TLS。\n",
    "# server = smtplib.SMTP_SSL(smtp_server, 465) # 按需开启\n",
    "# 调试模式，打印日志\n",
    "# server.set_debuglevel(1) # 按需开启\n",
    "\n",
    "# 登陆服务器\n",
    "server.login(from_addr, password)\n",
    "\n",
    "# 发送邮件及退出\n",
    "server.sendmail(from_addr, [to_addr], msg.as_string()) #发送地址需与登陆的邮箱一致\n",
    "server.quit()"
   ]
  },
  {
   "cell_type": "code",
   "execution_count": 13,
   "metadata": {},
   "outputs": [],
   "source": [
    "# 添加附件功能"
   ]
  },
  {
   "cell_type": "code",
   "execution_count": 36,
   "metadata": {},
   "outputs": [
    {
     "name": "stdout",
     "output_type": "stream",
     "text": [
      "True\n"
     ]
    }
   ],
   "source": [
    "#!/usr/bin/env python\n",
    "# -*- coding:utf-8 -*-\n",
    " \n",
    "import smtplib\n",
    "from email.mime.multipart import MIMEMultipart\n",
    "from email.mime.text import MIMEText\n",
    "from email.mime.application import MIMEApplication\n",
    " \n",
    "class Mailer(object):\n",
    "    \n",
    "    def __init__(self,maillist,mailtitle,mailcontent):\n",
    "        self.mail_list = maillist\n",
    "        self.mail_title = mailtitle\n",
    "        self.mail_content = mailcontent\n",
    "\n",
    "        self.mail_host = \"smtp.exmail.qq.com\"\n",
    "        self.mail_user = \"h@0920er.com\"\n",
    "        self.mail_pass = \"见云笔记\"\n",
    "        self.mail_postfix = \"@qq.com\"\n",
    "    \n",
    " \n",
    "    def sendMail(self):\n",
    "        me = self.mail_user + \"<\" + self.mail_user  + \">\"\n",
    "        msg = MIMEMultipart()\n",
    "        msg['Subject'] = '银行外汇市场人民币汇率中间价'\n",
    "        msg['From'] = me\n",
    "        msg['To'] = \";\".join(self.mail_list)\n",
    "\n",
    "        #puretext = MIMEText('<h1>你好，<br/>'+self.mail_content+'</h1>','html','utf-8')\n",
    "        puretext = MIMEText(self.mail_content)\n",
    "        msg.attach(puretext)\n",
    "\n",
    "     #     jpg类型的附件\n",
    "     #     jpgpart = MIMEApplication(open('/home/mypan/1949777163775279642.jpg', 'rb').read())\n",
    "     #     jpgpart.add_header('Content-Disposition', 'attachment', filename='beauty.jpg')\n",
    "     #     msg.attach(jpgpart)\n",
    "\n",
    "        # 首先是xlsx类型的附件\n",
    "        xlsxpart = MIMEApplication(open('chiara.xlsx', 'rb').read())\n",
    "        xlsxpart.add_header('Content-Disposition', 'attachment', filename='chiara.xlsx')\n",
    "        msg.attach(xlsxpart)\n",
    "\n",
    "        # mp3类型的附件\n",
    "        #mp3part = MIMEApplication(open('kenny.mp3', 'rb').read())\n",
    "        #mp3part.add_header('Content-Disposition', 'attachment', filename='benny.mp3')\n",
    "        #msg.attach(mp3part)\n",
    "\n",
    "        # pdf类型附件\n",
    "        #part = MIMEApplication(open('foo.pdf', 'rb').read())\n",
    "        #part.add_header('Content-Disposition', 'attachment', filename=\"foo.pdf\")\n",
    "        #msg.attach(part)\n",
    "\n",
    "        try:\n",
    "            s = smtplib.SMTP() #创建邮件服务器对象\n",
    "            s.connect(self.mail_host) #连接到指定的smtp服务器。参数分别表示smpt主机和端口\n",
    "            s.login(self.mail_user, self.mail_pass) #登录到你邮箱\n",
    "            s.sendmail(me, self.mail_list, msg.as_string()) #发送内容\n",
    "            s.close()\n",
    "            return True\n",
    "        except Exception as e:\n",
    "            print(str(e))\n",
    "            return False\n",
    "\n",
    "    \n",
    "if __name__ == '__main__':    \n",
    "    #send list\n",
    "    mailto_list = [\"921348203@qq.com\",  \"hunter.yang@beibei.com\"] #\"291796294@qq.com\"]\n",
    "    mail_title = 'Rate'\n",
    "    mail_content = 'chiara 小主，这是你的汇率报表，请查收。'\n",
    "    mm = Mailer(mailto_list,mail_title,mail_content)\n",
    "    res = mm.sendMail()\n",
    "    print(res)"
   ]
  },
  {
   "cell_type": "code",
   "execution_count": null,
   "metadata": {},
   "outputs": [],
   "source": []
  }
 ],
 "metadata": {
  "kernelspec": {
   "display_name": "Python [default]",
   "language": "python",
   "name": "python3"
  },
  "language_info": {
   "codemirror_mode": {
    "name": "ipython",
    "version": 3
   },
   "file_extension": ".py",
   "mimetype": "text/x-python",
   "name": "python",
   "nbconvert_exporter": "python",
   "pygments_lexer": "ipython3",
   "version": "3.5.4"
  }
 },
 "nbformat": 4,
 "nbformat_minor": 2
}
